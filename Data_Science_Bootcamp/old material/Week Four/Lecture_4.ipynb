{
  "nbformat": 4,
  "nbformat_minor": 0,
  "metadata": {
    "colab": {
      "name": "Lecture 4.ipynb",
      "provenance": [],
      "collapsed_sections": [],
      "machine_shape": "hm"
    },
    "kernelspec": {
      "name": "python3",
      "display_name": "Python 3"
    }
  },
  "cells": [
    {
      "cell_type": "markdown",
      "metadata": {
        "id": "2Dy5KlIYDlEG",
        "colab_type": "text"
      },
      "source": [
        "We import all the necessary packages. Most of these have already been explained before. The new ones are combinations and factorial, which we use in the Best Subset Selection algorithm"
      ]
    },
    {
      "cell_type": "code",
      "metadata": {
        "id": "phc10IT2LA-C",
        "colab_type": "code",
        "colab": {}
      },
      "source": [
        "import numpy as np   \n",
        "import statsmodels.api as sm\n",
        "from sklearn.model_selection import KFold\n",
        "from matplotlib import pyplot as plt\n",
        "import pandas as pd\n",
        "import seaborn as sns\n",
        "from itertools import combinations\n",
        "from math import factorial\n",
        "\n",
        "plt.style.use('ggplot')\n",
        "\n",
        "import io\n",
        "from google.colab import files"
      ],
      "execution_count": 0,
      "outputs": []
    },
    {
      "cell_type": "markdown",
      "metadata": {
        "id": "xa44MbZCTGwS",
        "colab_type": "text"
      },
      "source": [
        "This dataset was taken from https://www.kaggle.com/karangadiya/fifa19."
      ]
    },
    {
      "cell_type": "code",
      "metadata": {
        "id": "GyHEtvfHPdC-",
        "colab_type": "code",
        "outputId": "55df65fc-6761-405e-fc6e-ba5b18ceeced",
        "colab": {
          "resources": {
            "http://localhost:8080/nbextensions/google.colab/files.js": {
              "data": "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",
              "ok": true,
              "headers": [
                [
                  "content-type",
                  "application/javascript"
                ]
              ],
              "status": 200,
              "status_text": ""
            }
          },
          "base_uri": "https://localhost:8080/",
          "height": 75
        }
      },
      "source": [
        "uploaded = files.upload()"
      ],
      "execution_count": 0,
      "outputs": [
        {
          "output_type": "display_data",
          "data": {
            "text/html": [
              "\n",
              "     <input type=\"file\" id=\"files-03d148dc-c9d8-41fe-b915-f8f54d7d810a\" name=\"files[]\" multiple disabled />\n",
              "     <output id=\"result-03d148dc-c9d8-41fe-b915-f8f54d7d810a\">\n",
              "      Upload widget is only available when the cell has been executed in the\n",
              "      current browser session. Please rerun this cell to enable.\n",
              "      </output>\n",
              "      <script src=\"/nbextensions/google.colab/files.js\"></script> "
            ],
            "text/plain": [
              "<IPython.core.display.HTML object>"
            ]
          },
          "metadata": {
            "tags": []
          }
        },
        {
          "output_type": "stream",
          "text": [
            "Saving data.csv to data.csv\n"
          ],
          "name": "stdout"
        }
      ]
    },
    {
      "cell_type": "code",
      "metadata": {
        "id": "k5nGk9SlQHIC",
        "colab_type": "code",
        "outputId": "bc59f3df-0a3f-4d31-ff39-eedaa337d59f",
        "colab": {
          "base_uri": "https://localhost:8080/",
          "height": 246
        }
      },
      "source": [
        "csv_file = io.BytesIO(uploaded['data.csv'])\n",
        "fifa_df = pd.read_csv(csv_file)\n",
        "print(fifa_df.head(10))"
      ],
      "execution_count": 0,
      "outputs": [
        {
          "output_type": "stream",
          "text": [
            "   Unnamed: 0      ID  ... GKReflexes  Release Clause\n",
            "0           0  158023  ...        8.0         €226.5M\n",
            "1           1   20801  ...       11.0         €127.1M\n",
            "2           2  190871  ...       11.0         €228.1M\n",
            "3           3  193080  ...       94.0         €138.6M\n",
            "4           4  192985  ...       13.0         €196.4M\n",
            "5           5  183277  ...        8.0         €172.1M\n",
            "6           6  177003  ...        9.0         €137.4M\n",
            "7           7  176580  ...       37.0           €164M\n",
            "8           8  155862  ...       11.0         €104.6M\n",
            "9           9  200389  ...       89.0         €144.5M\n",
            "\n",
            "[10 rows x 89 columns]\n"
          ],
          "name": "stdout"
        }
      ]
    },
    {
      "cell_type": "markdown",
      "metadata": {
        "id": "S-1-l0kND5wd",
        "colab_type": "text"
      },
      "source": [
        "Our target is to predict a player's wage. \n",
        "\n",
        "Note that this first set of features is commented out. It contains two features that are far too obvious to use for this example. It is obvious that a player's monetary value and release clause value should predict their wage well since they are naturally correlated based on how players are paid.\n",
        "\n",
        "Feel free to uncomment these features and comment out the other ones and see how our feature selection holds up."
      ]
    },
    {
      "cell_type": "code",
      "metadata": {
        "id": "vaY9cf268i0V",
        "colab_type": "code",
        "colab": {}
      },
      "source": [
        "'''\n",
        "features = ['Age', 'Weight', 'Height', 'Overall', 'Value', 'Potential', 'Crossing','Finishing',\n",
        "             'HeadingAccuracy','ShortPassing','Volleys','Dribbling','Curve',\n",
        "             'FKAccuracy','LongPassing','BallControl','Acceleration',\n",
        "             'SprintSpeed','Agility','Reactions','Balance','ShotPower',\n",
        "             'Jumping','Stamina','Strength','LongShots','Aggression',\n",
        "             'Interceptions','Positioning','Vision','Penalties','Composure',\n",
        "             'Marking','StandingTackle','SlidingTackle','GKDiving','GKHandling',\n",
        "             'GKKicking','GKPositioning','GKReflexes', 'Release Clause']\n",
        "'''\n",
        "features = ['Age', 'Weight', 'Height', 'Overall', 'Potential', 'Crossing','Finishing',\n",
        "             'HeadingAccuracy','ShortPassing','Volleys','Dribbling','Curve',\n",
        "             'FKAccuracy','LongPassing','BallControl','Acceleration',\n",
        "             'SprintSpeed','Agility','Reactions','Balance','ShotPower',\n",
        "             'Jumping','Stamina','Strength','LongShots','Aggression',\n",
        "             'Interceptions','Positioning','Vision','Penalties','Composure',\n",
        "             'Marking','StandingTackle','SlidingTackle','GKDiving','GKHandling',\n",
        "             'GKKicking','GKPositioning','GKReflexes']\n",
        "target = 'Wage'"
      ],
      "execution_count": 0,
      "outputs": []
    },
    {
      "cell_type": "markdown",
      "metadata": {
        "id": "oHWHzDOzESCT",
        "colab_type": "text"
      },
      "source": [
        "Below, we create some helper functions to clean up the data. Keep in mind that this is a really important step as a data scientist. For example, a column that has units like Euros (€) in thousands (K) or millions (M), must be converted to some common value. Here, we choose all values to be in units of thousands of Euros."
      ]
    },
    {
      "cell_type": "code",
      "metadata": {
        "id": "ncvF1QLzm3yP",
        "colab_type": "code",
        "outputId": "6e4e02fc-590e-4968-9b3b-fc23834391bf",
        "colab": {
          "base_uri": "https://localhost:8080/",
          "height": 1000
        }
      },
      "source": [
        "'''\n",
        "Helper Functions to clean the data:\n",
        "'''\n",
        "def height_to_inches(h):\n",
        "  if type(h) is str:\n",
        "    hsplit = h.split(\"'\")   # splits a string like 5'7 and returns the total inches\n",
        "    feet = int(hsplit[0])\n",
        "    inches = int(hsplit[1])\n",
        "    return feet*12 + inches\n",
        "  else:\n",
        "    return h\n",
        "\n",
        "def clean_weight(w):\n",
        "  if type(w) is str:\n",
        "    wnew = int(w.replace(\"lbs\",\"\"))\n",
        "    return wnew\n",
        "  else:\n",
        "    return w\n",
        "\n",
        "def clean_price(c):\n",
        "  if type(c) is str:\n",
        "    ismillion = False\n",
        "    if \"M\" in c:\n",
        "      ismillion = True\n",
        "    cnew = float(c.replace(\"€\", \"\").replace(\"M\", \"\").replace(\"K\", \"\"))\n",
        "    if ismillion:\n",
        "      cnew *= 1000\n",
        "    return cnew\n",
        "  else:\n",
        "    return c\n",
        "\n",
        "# Actually clean up the dataset:\n",
        "\n",
        "all_cols = [i for i in features]\n",
        "all_cols.append(target)\n",
        "cols_to_keep = [not i for i in fifa_df[all_cols].isna().any(axis=1)]\n",
        "fifa_df = fifa_df[cols_to_keep]\n",
        "\n",
        "print(fifa_df['Height'])\n",
        "fifa_df['Height'] = fifa_df['Height'].apply(height_to_inches)\n",
        "fifa_df['Height'].astype('int')\n",
        "print(fifa_df['Height'])\n",
        "\n",
        "print(fifa_df['Weight'])\n",
        "fifa_df['Weight'] = fifa_df['Weight'].apply(clean_weight)\n",
        "fifa_df['Weight'].astype('int')\n",
        "print(fifa_df['Weight'])\n",
        "\n",
        "# Ive commented these out as per the description from the code where we set\n",
        "# the features above\n",
        "'''\n",
        "print(fifa_df['Value'])\n",
        "fifa_df['Value'] = fifa_df['Value'].apply(clean_price)\n",
        "fifa_df['Value'].astype('int')\n",
        "print(fifa_df['Value'])\n",
        "\n",
        "print(fifa_df['Release Clause'])\n",
        "fifa_df['Release Clause'] = fifa_df['Release Clause'].apply(clean_price)\n",
        "fifa_df['Release Clause'].astype('int')\n",
        "print(fifa_df['Release Clause'])\n",
        "'''\n",
        "\n",
        "# Applying cleanup to the target as well\n",
        "print(fifa_df['Wage'])\n",
        "fifa_df['Wage'] = fifa_df['Wage'].apply(clean_price)\n",
        "fifa_df['Wage'].astype('int')\n",
        "print(fifa_df['Wage'])"
      ],
      "execution_count": 0,
      "outputs": [
        {
          "output_type": "stream",
          "text": [
            "0         5'7\n",
            "1         6'2\n",
            "2         5'9\n",
            "3         6'4\n",
            "4        5'11\n",
            "         ... \n",
            "18202     5'9\n",
            "18203     6'3\n",
            "18204     5'8\n",
            "18205    5'10\n",
            "18206    5'10\n",
            "Name: Height, Length: 18159, dtype: object\n",
            "0        67\n",
            "1        74\n",
            "2        69\n",
            "3        76\n",
            "4        71\n",
            "         ..\n",
            "18202    69\n",
            "18203    75\n",
            "18204    68\n",
            "18205    70\n",
            "18206    70\n",
            "Name: Height, Length: 18159, dtype: int64\n",
            "0        159lbs\n",
            "1        183lbs\n",
            "2        150lbs\n",
            "3        168lbs\n",
            "4        154lbs\n",
            "          ...  \n",
            "18202    134lbs\n",
            "18203    170lbs\n",
            "18204    148lbs\n",
            "18205    154lbs\n",
            "18206    176lbs\n",
            "Name: Weight, Length: 18159, dtype: object\n",
            "0        159\n",
            "1        183\n",
            "2        150\n",
            "3        168\n",
            "4        154\n",
            "        ... \n",
            "18202    134\n",
            "18203    170\n",
            "18204    148\n",
            "18205    154\n",
            "18206    176\n",
            "Name: Weight, Length: 18159, dtype: int64\n",
            "0        €565K\n",
            "1        €405K\n",
            "2        €290K\n",
            "3        €260K\n",
            "4        €355K\n",
            "         ...  \n",
            "18202      €1K\n",
            "18203      €1K\n",
            "18204      €1K\n",
            "18205      €1K\n",
            "18206      €1K\n",
            "Name: Wage, Length: 18159, dtype: object\n",
            "0        565.0\n",
            "1        405.0\n",
            "2        290.0\n",
            "3        260.0\n",
            "4        355.0\n",
            "         ...  \n",
            "18202      1.0\n",
            "18203      1.0\n",
            "18204      1.0\n",
            "18205      1.0\n",
            "18206      1.0\n",
            "Name: Wage, Length: 18159, dtype: float64\n"
          ],
          "name": "stdout"
        }
      ]
    },
    {
      "cell_type": "code",
      "metadata": {
        "id": "bt66XggpPrYE",
        "colab_type": "code",
        "colab": {}
      },
      "source": [
        "X = fifa_df[features]\n",
        "Y = fifa_df[target]"
      ],
      "execution_count": 0,
      "outputs": []
    },
    {
      "cell_type": "code",
      "metadata": {
        "id": "waFntO3PPam8",
        "colab_type": "code",
        "colab": {}
      },
      "source": [
        "# Helper function to fit our model and get our model and RSS instead of doing it over again every time\n",
        "def fit_model(X, Y):\n",
        "  X = sm.add_constant(X)\n",
        "  model = sm.OLS(Y,X).fit()\n",
        "  # In statsmodels, RSS is called \"ssr\", for Sum of Squared Residuals. We didn't pick the names\n",
        "  RSS = model.ssr\n",
        "  return model, RSS"
      ],
      "execution_count": 0,
      "outputs": []
    },
    {
      "cell_type": "code",
      "metadata": {
        "id": "f2QnW2M9k0Bq",
        "colab_type": "code",
        "colab": {}
      },
      "source": [
        "# Helper function for seeing the number of combinations each step\n",
        "def nCr(n, r):\n",
        "  return factorial(n)/(factorial(r)*factorial(n-r))"
      ],
      "execution_count": 0,
      "outputs": []
    },
    {
      "cell_type": "code",
      "metadata": {
        "id": "IoWlqLcvzGWg",
        "colab_type": "code",
        "colab": {}
      },
      "source": [
        "# Helper function for using K-Fold Cross Validation.\n",
        "def k_fold_cross_val(features, X, Y, k):\n",
        "  print(\"Applying {}-fold to {} features...\".format(k, len(features)))\n",
        "  kf = KFold(n_splits=k)\n",
        "  MSE_list = []\n",
        "  for train_index, test_index in kf.split(X):\n",
        "    X_train, X_test = X.loc[X.index[train_index]], X.loc[X.index[test_index]]\n",
        "    Y_train, Y_test = Y.loc[Y.index[train_index]], Y.loc[Y.index[test_index]]\n",
        "    model, RSS = fit_model(X_train, Y_train)\n",
        "    X_test = sm.add_constant(X_test)\n",
        "    Y_pred = model.predict(X_test)\n",
        "    MSE = sm.tools.eval_measures.mse(Y_pred, Y_test)\n",
        "    MSE_list.append(MSE)\n",
        "  CV_k = sum(MSE_list)/len(MSE_list)\n",
        "  return CV_k"
      ],
      "execution_count": 0,
      "outputs": []
    },
    {
      "cell_type": "code",
      "metadata": {
        "id": "VYhy6Z7kQmax",
        "colab_type": "code",
        "colab": {}
      },
      "source": [
        "# Best Subset Selection Algorithm\n",
        "def bestss(features, X, Y, criterion=\"C_p\"):\n",
        "  # These lists are for keeping track of columns we will later put into a \n",
        "  # dataframe\n",
        "  RSS_list = []\n",
        "  feature_list, num_features = [], []\n",
        "  model_list = []\n",
        "  # Note I'm only doing this up to 2 variables for brevity\n",
        "  # (and colab doesn't have enough RAM for more)\n",
        "  # The full method will go up to the number of features i.e. k = len(features)\n",
        "  k = 2\n",
        "  for i in range(1,k+1):\n",
        "    print(\"Currently on {} features\".format(i))\n",
        "    n = len(features)\n",
        "    # Get the total number of combinations we will be iterating over to keep\n",
        "    # track of where we are when running the code\n",
        "    total_combos = int(nCr(n, i))\n",
        "    # Go through all combinations of the current number of features\n",
        "    for j, combination in enumerate(combinations(features, i)):\n",
        "      # Print out every hundred combinations\n",
        "      if j % 100 == 0:\n",
        "        print(\"On combination {} / {}\".format(j, total_combos))\n",
        "      # Get the datapoints for the current combination of features\n",
        "      X_curr = X[list(combination)]\n",
        "      # Fit the model to these features\n",
        "      model_curr, RSS_curr = fit_model(X_curr,Y)\n",
        "      RSS_list.append(RSS_curr)\n",
        "      feature_list.append(combination)\n",
        "      num_features.append(len(combination))\n",
        "      model_list.append(model_curr)\n",
        "\n",
        "  # Convert our data of interest to a dataframe\n",
        "  stat_df = pd.DataFrame({'num_features' : num_features, 'RSS' : RSS_list, 'features' : feature_list, 'model' : model_list})\n",
        "  # Create a new column with the minimum RSS for each number of features\n",
        "  stat_df['min_RSS'] = stat_df.groupby('num_features')['RSS'].transform(min)\n",
        "\n",
        "  # Number of target datapoints\n",
        "  m = len(Y)\n",
        "  # Number of features\n",
        "  k = len(features)\n",
        "  # Estimate of variance in error on test data per added feature\n",
        "  sigma_hat_squared = 1/(m - k - 1)*min(stat_df['RSS'])\n",
        "  \n",
        "  # Our different criteria for choosing the best model\n",
        "  stat_df['C_p'] = (1/m) * (stat_df['RSS'] + 2 * stat_df['num_features'] * sigma_hat_squared)\n",
        "  stat_df['AIC'] = (1/m * sigma_hat_squared) * (stat_df['RSS'] + np.log(m) * stat_df['num_features'] * sigma_hat_squared)\n",
        "  stat_df['BIC'] = (1/(m*sigma_hat_squared)) * (stat_df['RSS'] +  np.log(m) * stat_df['num_features'] * sigma_hat_squared)\n",
        "\n",
        "  # Get the index for the model which has the minimum RSS\n",
        "  idx_num_features_min_rss = stat_df.groupby(['num_features'])['RSS'].idxmin()\n",
        "  # The best model will be in the row which has the lowest RSS\n",
        "  best_model_df = stat_df.loc[idx_num_features_min_rss, :].reset_index()\n",
        "  print(best_model_df)\n",
        "\n",
        "  # If we aren't doing cross validation\n",
        "  if criterion != 'cross_val':\n",
        "    best_model = best_model_df.loc[best_model_df[criterion].idxmin(), :]\n",
        "  \n",
        "  # Sort the dataframe with statistics on each model by RSS and number of features\n",
        "  stat_df = stat_df.sort_values(by =['num_features', 'RSS'])\n",
        "\n",
        "  return best_model, stat_df"
      ],
      "execution_count": 0,
      "outputs": []
    },
    {
      "cell_type": "code",
      "metadata": {
        "id": "let2NnDMgezf",
        "colab_type": "code",
        "outputId": "594c1c29-00c7-42ac-8f6d-b52f7a9235af",
        "colab": {
          "base_uri": "https://localhost:8080/",
          "height": 561
        }
      },
      "source": [
        "# Get the best model from Best Subset Seleciton\n",
        "best_model, stat_df = bestss(features, X, Y, 'BIC')\n",
        "print(stat_df.head(20))\n",
        "print(best_model)\n",
        "\n",
        "# Plot our algorithm for all the RSS values for each number of features and make\n",
        "# a line going through the minimum RSS value for each number of features\n",
        "fig = plt.figure(figsize = (8,5))\n",
        "ax = fig.add_subplot(1,1,1)\n",
        "ax.ticklabel_format(style='sci', axis='y', scilimits=(0,0))\n",
        "\n",
        "ax.scatter(stat_df['num_features'],stat_df['RSS'], alpha = .2, color = 'darkblue')\n",
        "ax.set_xlabel('Number of Features')\n",
        "ax.set_ylabel('RSS')\n",
        "ax.set_title('Best Subset Selection by RSS')\n",
        "ax.plot(stat_df['num_features'], stat_df['min_RSS'], color = 'r', label = 'Best Subset')\n",
        "\n",
        "plt.show()"
      ],
      "execution_count": 0,
      "outputs": [
        {
          "output_type": "stream",
          "text": [
            "Currently on 1 features\n",
            "On combination 0 / 39\n"
          ],
          "name": "stdout"
        },
        {
          "output_type": "stream",
          "text": [
            "/usr/local/lib/python3.6/dist-packages/numpy/core/fromnumeric.py:2495: FutureWarning: Method .ptp is deprecated and will be removed in a future version. Use numpy.ptp instead.\n",
            "  return ptp(axis=axis, out=out, **kwargs)\n"
          ],
          "name": "stderr"
        },
        {
          "output_type": "stream",
          "text": [
            "Currently on 2 features\n",
            "On combination 0 / 741\n",
            "On combination 100 / 741\n",
            "On combination 200 / 741\n"
          ],
          "name": "stdout"
        },
        {
          "output_type": "error",
          "ename": "KeyboardInterrupt",
          "evalue": "ignored",
          "traceback": [
            "\u001b[0;31m---------------------------------------------------------------------------\u001b[0m",
            "\u001b[0;31mKeyboardInterrupt\u001b[0m                         Traceback (most recent call last)",
            "\u001b[0;32m<ipython-input-11-240d0db97296>\u001b[0m in \u001b[0;36m<module>\u001b[0;34m()\u001b[0m\n\u001b[0;32m----> 1\u001b[0;31m \u001b[0mbest_model\u001b[0m\u001b[0;34m,\u001b[0m \u001b[0mstat_df\u001b[0m \u001b[0;34m=\u001b[0m \u001b[0mbestss\u001b[0m\u001b[0;34m(\u001b[0m\u001b[0mfeatures\u001b[0m\u001b[0;34m,\u001b[0m \u001b[0mX\u001b[0m\u001b[0;34m,\u001b[0m \u001b[0mY\u001b[0m\u001b[0;34m,\u001b[0m \u001b[0;34m'BIC'\u001b[0m\u001b[0;34m)\u001b[0m\u001b[0;34m\u001b[0m\u001b[0;34m\u001b[0m\u001b[0m\n\u001b[0m\u001b[1;32m      2\u001b[0m \u001b[0mprint\u001b[0m\u001b[0;34m(\u001b[0m\u001b[0mstat_df\u001b[0m\u001b[0;34m.\u001b[0m\u001b[0mhead\u001b[0m\u001b[0;34m(\u001b[0m\u001b[0;36m20\u001b[0m\u001b[0;34m)\u001b[0m\u001b[0;34m)\u001b[0m\u001b[0;34m\u001b[0m\u001b[0;34m\u001b[0m\u001b[0m\n\u001b[1;32m      3\u001b[0m \u001b[0mprint\u001b[0m\u001b[0;34m(\u001b[0m\u001b[0mbest_model\u001b[0m\u001b[0;34m)\u001b[0m\u001b[0;34m\u001b[0m\u001b[0;34m\u001b[0m\u001b[0m\n\u001b[1;32m      4\u001b[0m \u001b[0;34m\u001b[0m\u001b[0m\n\u001b[1;32m      5\u001b[0m \u001b[0;31m# Plot our algorithm for all the RSS values for each number of features and make\u001b[0m\u001b[0;34m\u001b[0m\u001b[0;34m\u001b[0m\u001b[0;34m\u001b[0m\u001b[0m\n",
            "\u001b[0;32m<ipython-input-10-7809cd434424>\u001b[0m in \u001b[0;36mbestss\u001b[0;34m(features, X, Y, criterion)\u001b[0m\n\u001b[1;32m     23\u001b[0m       \u001b[0mX_curr\u001b[0m \u001b[0;34m=\u001b[0m \u001b[0mX\u001b[0m\u001b[0;34m[\u001b[0m\u001b[0mlist\u001b[0m\u001b[0;34m(\u001b[0m\u001b[0mcombination\u001b[0m\u001b[0;34m)\u001b[0m\u001b[0;34m]\u001b[0m\u001b[0;34m\u001b[0m\u001b[0;34m\u001b[0m\u001b[0m\n\u001b[1;32m     24\u001b[0m       \u001b[0;31m# Fit the model to these features\u001b[0m\u001b[0;34m\u001b[0m\u001b[0;34m\u001b[0m\u001b[0;34m\u001b[0m\u001b[0m\n\u001b[0;32m---> 25\u001b[0;31m       \u001b[0mmodel_curr\u001b[0m\u001b[0;34m,\u001b[0m \u001b[0mRSS_curr\u001b[0m \u001b[0;34m=\u001b[0m \u001b[0mfit_model\u001b[0m\u001b[0;34m(\u001b[0m\u001b[0mX_curr\u001b[0m\u001b[0;34m,\u001b[0m\u001b[0mY\u001b[0m\u001b[0;34m)\u001b[0m\u001b[0;34m\u001b[0m\u001b[0;34m\u001b[0m\u001b[0m\n\u001b[0m\u001b[1;32m     26\u001b[0m       \u001b[0mRSS_list\u001b[0m\u001b[0;34m.\u001b[0m\u001b[0mappend\u001b[0m\u001b[0;34m(\u001b[0m\u001b[0mRSS_curr\u001b[0m\u001b[0;34m)\u001b[0m\u001b[0;34m\u001b[0m\u001b[0;34m\u001b[0m\u001b[0m\n\u001b[1;32m     27\u001b[0m       \u001b[0mfeature_list\u001b[0m\u001b[0;34m.\u001b[0m\u001b[0mappend\u001b[0m\u001b[0;34m(\u001b[0m\u001b[0mcombination\u001b[0m\u001b[0;34m)\u001b[0m\u001b[0;34m\u001b[0m\u001b[0;34m\u001b[0m\u001b[0m\n",
            "\u001b[0;32m<ipython-input-7-cd3f0440d8d9>\u001b[0m in \u001b[0;36mfit_model\u001b[0;34m(X, Y)\u001b[0m\n\u001b[1;32m      3\u001b[0m   \u001b[0mmodel\u001b[0m \u001b[0;34m=\u001b[0m \u001b[0msm\u001b[0m\u001b[0;34m.\u001b[0m\u001b[0mOLS\u001b[0m\u001b[0;34m(\u001b[0m\u001b[0mY\u001b[0m\u001b[0;34m,\u001b[0m\u001b[0mX\u001b[0m\u001b[0;34m)\u001b[0m\u001b[0;34m.\u001b[0m\u001b[0mfit\u001b[0m\u001b[0;34m(\u001b[0m\u001b[0;34m)\u001b[0m\u001b[0;34m\u001b[0m\u001b[0;34m\u001b[0m\u001b[0m\n\u001b[1;32m      4\u001b[0m   \u001b[0;31m# In statsmodels, RSS is called \"ssr\", for Sum of Squared Residuals. We didn't pick the names\u001b[0m\u001b[0;34m\u001b[0m\u001b[0;34m\u001b[0m\u001b[0;34m\u001b[0m\u001b[0m\n\u001b[0;32m----> 5\u001b[0;31m   \u001b[0mRSS\u001b[0m \u001b[0;34m=\u001b[0m \u001b[0mmodel\u001b[0m\u001b[0;34m.\u001b[0m\u001b[0mssr\u001b[0m\u001b[0;34m\u001b[0m\u001b[0;34m\u001b[0m\u001b[0m\n\u001b[0m\u001b[1;32m      6\u001b[0m   \u001b[0;32mreturn\u001b[0m \u001b[0mmodel\u001b[0m\u001b[0;34m,\u001b[0m \u001b[0mRSS\u001b[0m\u001b[0;34m\u001b[0m\u001b[0;34m\u001b[0m\u001b[0m\n",
            "\u001b[0;32m/usr/local/lib/python3.6/dist-packages/statsmodels/base/wrapper.py\u001b[0m in \u001b[0;36m__getattribute__\u001b[0;34m(self, attr)\u001b[0m\n\u001b[1;32m     33\u001b[0m             \u001b[0;32mpass\u001b[0m\u001b[0;34m\u001b[0m\u001b[0;34m\u001b[0m\u001b[0m\n\u001b[1;32m     34\u001b[0m \u001b[0;34m\u001b[0m\u001b[0m\n\u001b[0;32m---> 35\u001b[0;31m         \u001b[0mobj\u001b[0m \u001b[0;34m=\u001b[0m \u001b[0mgetattr\u001b[0m\u001b[0;34m(\u001b[0m\u001b[0mresults\u001b[0m\u001b[0;34m,\u001b[0m \u001b[0mattr\u001b[0m\u001b[0;34m)\u001b[0m\u001b[0;34m\u001b[0m\u001b[0;34m\u001b[0m\u001b[0m\n\u001b[0m\u001b[1;32m     36\u001b[0m         \u001b[0mdata\u001b[0m \u001b[0;34m=\u001b[0m \u001b[0mresults\u001b[0m\u001b[0;34m.\u001b[0m\u001b[0mmodel\u001b[0m\u001b[0;34m.\u001b[0m\u001b[0mdata\u001b[0m\u001b[0;34m\u001b[0m\u001b[0;34m\u001b[0m\u001b[0m\n\u001b[1;32m     37\u001b[0m         \u001b[0mhow\u001b[0m \u001b[0;34m=\u001b[0m \u001b[0mself\u001b[0m\u001b[0;34m.\u001b[0m\u001b[0m_wrap_attrs\u001b[0m\u001b[0;34m.\u001b[0m\u001b[0mget\u001b[0m\u001b[0;34m(\u001b[0m\u001b[0mattr\u001b[0m\u001b[0;34m)\u001b[0m\u001b[0;34m\u001b[0m\u001b[0;34m\u001b[0m\u001b[0m\n",
            "\u001b[0;32m/usr/local/lib/python3.6/dist-packages/statsmodels/tools/decorators.py\u001b[0m in \u001b[0;36m__get__\u001b[0;34m(self, obj, type)\u001b[0m\n\u001b[1;32m     91\u001b[0m         \u001b[0m_cachedval\u001b[0m \u001b[0;34m=\u001b[0m \u001b[0m_cache\u001b[0m\u001b[0;34m.\u001b[0m\u001b[0mget\u001b[0m\u001b[0;34m(\u001b[0m\u001b[0mname\u001b[0m\u001b[0;34m,\u001b[0m \u001b[0;32mNone\u001b[0m\u001b[0;34m)\u001b[0m\u001b[0;34m\u001b[0m\u001b[0;34m\u001b[0m\u001b[0m\n\u001b[1;32m     92\u001b[0m         \u001b[0;32mif\u001b[0m \u001b[0m_cachedval\u001b[0m \u001b[0;32mis\u001b[0m \u001b[0;32mNone\u001b[0m\u001b[0;34m:\u001b[0m\u001b[0;34m\u001b[0m\u001b[0;34m\u001b[0m\u001b[0m\n\u001b[0;32m---> 93\u001b[0;31m             \u001b[0m_cachedval\u001b[0m \u001b[0;34m=\u001b[0m \u001b[0mself\u001b[0m\u001b[0;34m.\u001b[0m\u001b[0mfget\u001b[0m\u001b[0;34m(\u001b[0m\u001b[0mobj\u001b[0m\u001b[0;34m)\u001b[0m\u001b[0;34m\u001b[0m\u001b[0;34m\u001b[0m\u001b[0m\n\u001b[0m\u001b[1;32m     94\u001b[0m             \u001b[0m_cache\u001b[0m\u001b[0;34m[\u001b[0m\u001b[0mname\u001b[0m\u001b[0;34m]\u001b[0m \u001b[0;34m=\u001b[0m \u001b[0m_cachedval\u001b[0m\u001b[0;34m\u001b[0m\u001b[0;34m\u001b[0m\u001b[0m\n\u001b[1;32m     95\u001b[0m \u001b[0;34m\u001b[0m\u001b[0m\n",
            "\u001b[0;32m/usr/local/lib/python3.6/dist-packages/statsmodels/regression/linear_model.py\u001b[0m in \u001b[0;36mssr\u001b[0;34m(self)\u001b[0m\n\u001b[1;32m   1581\u001b[0m     \u001b[0;32mdef\u001b[0m \u001b[0mssr\u001b[0m\u001b[0;34m(\u001b[0m\u001b[0mself\u001b[0m\u001b[0;34m)\u001b[0m\u001b[0;34m:\u001b[0m\u001b[0;34m\u001b[0m\u001b[0;34m\u001b[0m\u001b[0m\n\u001b[1;32m   1582\u001b[0m         \u001b[0;34m\"\"\"Sum of squared (whitened) residuals.\"\"\"\u001b[0m\u001b[0;34m\u001b[0m\u001b[0;34m\u001b[0m\u001b[0m\n\u001b[0;32m-> 1583\u001b[0;31m         \u001b[0mwresid\u001b[0m \u001b[0;34m=\u001b[0m \u001b[0mself\u001b[0m\u001b[0;34m.\u001b[0m\u001b[0mwresid\u001b[0m\u001b[0;34m\u001b[0m\u001b[0;34m\u001b[0m\u001b[0m\n\u001b[0m\u001b[1;32m   1584\u001b[0m         \u001b[0;32mreturn\u001b[0m \u001b[0mnp\u001b[0m\u001b[0;34m.\u001b[0m\u001b[0mdot\u001b[0m\u001b[0;34m(\u001b[0m\u001b[0mwresid\u001b[0m\u001b[0;34m,\u001b[0m \u001b[0mwresid\u001b[0m\u001b[0;34m)\u001b[0m\u001b[0;34m\u001b[0m\u001b[0;34m\u001b[0m\u001b[0m\n\u001b[1;32m   1585\u001b[0m \u001b[0;34m\u001b[0m\u001b[0m\n",
            "\u001b[0;32m/usr/local/lib/python3.6/dist-packages/statsmodels/tools/decorators.py\u001b[0m in \u001b[0;36m__get__\u001b[0;34m(self, obj, type)\u001b[0m\n\u001b[1;32m     91\u001b[0m         \u001b[0m_cachedval\u001b[0m \u001b[0;34m=\u001b[0m \u001b[0m_cache\u001b[0m\u001b[0;34m.\u001b[0m\u001b[0mget\u001b[0m\u001b[0;34m(\u001b[0m\u001b[0mname\u001b[0m\u001b[0;34m,\u001b[0m \u001b[0;32mNone\u001b[0m\u001b[0;34m)\u001b[0m\u001b[0;34m\u001b[0m\u001b[0;34m\u001b[0m\u001b[0m\n\u001b[1;32m     92\u001b[0m         \u001b[0;32mif\u001b[0m \u001b[0m_cachedval\u001b[0m \u001b[0;32mis\u001b[0m \u001b[0;32mNone\u001b[0m\u001b[0;34m:\u001b[0m\u001b[0;34m\u001b[0m\u001b[0;34m\u001b[0m\u001b[0m\n\u001b[0;32m---> 93\u001b[0;31m             \u001b[0m_cachedval\u001b[0m \u001b[0;34m=\u001b[0m \u001b[0mself\u001b[0m\u001b[0;34m.\u001b[0m\u001b[0mfget\u001b[0m\u001b[0;34m(\u001b[0m\u001b[0mobj\u001b[0m\u001b[0;34m)\u001b[0m\u001b[0;34m\u001b[0m\u001b[0;34m\u001b[0m\u001b[0m\n\u001b[0m\u001b[1;32m     94\u001b[0m             \u001b[0m_cache\u001b[0m\u001b[0;34m[\u001b[0m\u001b[0mname\u001b[0m\u001b[0;34m]\u001b[0m \u001b[0;34m=\u001b[0m \u001b[0m_cachedval\u001b[0m\u001b[0;34m\u001b[0m\u001b[0;34m\u001b[0m\u001b[0m\n\u001b[1;32m     95\u001b[0m \u001b[0;34m\u001b[0m\u001b[0m\n",
            "\u001b[0;32m/usr/local/lib/python3.6/dist-packages/statsmodels/regression/linear_model.py\u001b[0m in \u001b[0;36mwresid\u001b[0;34m(self)\u001b[0m\n\u001b[1;32m   1559\u001b[0m         \"\"\"\n\u001b[1;32m   1560\u001b[0m         return self.model.wendog - self.model.predict(\n\u001b[0;32m-> 1561\u001b[0;31m             self.params, self.model.wexog)\n\u001b[0m\u001b[1;32m   1562\u001b[0m \u001b[0;34m\u001b[0m\u001b[0m\n\u001b[1;32m   1563\u001b[0m     \u001b[0;34m@\u001b[0m\u001b[0mcache_readonly\u001b[0m\u001b[0;34m\u001b[0m\u001b[0;34m\u001b[0m\u001b[0m\n",
            "\u001b[0;32m/usr/local/lib/python3.6/dist-packages/statsmodels/regression/linear_model.py\u001b[0m in \u001b[0;36mpredict\u001b[0;34m(self, params, exog)\u001b[0m\n\u001b[1;32m    362\u001b[0m             \u001b[0mexog\u001b[0m \u001b[0;34m=\u001b[0m \u001b[0mself\u001b[0m\u001b[0;34m.\u001b[0m\u001b[0mexog\u001b[0m\u001b[0;34m\u001b[0m\u001b[0;34m\u001b[0m\u001b[0m\n\u001b[1;32m    363\u001b[0m \u001b[0;34m\u001b[0m\u001b[0m\n\u001b[0;32m--> 364\u001b[0;31m         \u001b[0;32mreturn\u001b[0m \u001b[0mnp\u001b[0m\u001b[0;34m.\u001b[0m\u001b[0mdot\u001b[0m\u001b[0;34m(\u001b[0m\u001b[0mexog\u001b[0m\u001b[0;34m,\u001b[0m \u001b[0mparams\u001b[0m\u001b[0;34m)\u001b[0m\u001b[0;34m\u001b[0m\u001b[0;34m\u001b[0m\u001b[0m\n\u001b[0m\u001b[1;32m    365\u001b[0m \u001b[0;34m\u001b[0m\u001b[0m\n\u001b[1;32m    366\u001b[0m     \u001b[0;32mdef\u001b[0m \u001b[0mget_distribution\u001b[0m\u001b[0;34m(\u001b[0m\u001b[0mself\u001b[0m\u001b[0;34m,\u001b[0m \u001b[0mparams\u001b[0m\u001b[0;34m,\u001b[0m \u001b[0mscale\u001b[0m\u001b[0;34m,\u001b[0m \u001b[0mexog\u001b[0m\u001b[0;34m=\u001b[0m\u001b[0;32mNone\u001b[0m\u001b[0;34m,\u001b[0m \u001b[0mdist_class\u001b[0m\u001b[0;34m=\u001b[0m\u001b[0;32mNone\u001b[0m\u001b[0;34m)\u001b[0m\u001b[0;34m:\u001b[0m\u001b[0;34m\u001b[0m\u001b[0;34m\u001b[0m\u001b[0m\n",
            "\u001b[0;32m<__array_function__ internals>\u001b[0m in \u001b[0;36mdot\u001b[0;34m(*args, **kwargs)\u001b[0m\n",
            "\u001b[0;31mKeyboardInterrupt\u001b[0m: "
          ]
        }
      ]
    },
    {
      "cell_type": "code",
      "metadata": {
        "id": "m6NXcrwvLpIg",
        "colab_type": "code",
        "colab": {}
      },
      "source": [
        "# Algorithm for Forward Subset Selection\n",
        "def forwardss(features, X, Y, criterion=\"CV\"):\n",
        "  RSS_list = []\n",
        "  feature_list, num_features = [], []\n",
        "  model_list = []\n",
        "  remaining_features = features.copy()\n",
        "  best_features = []\n",
        "  k = len(features)\n",
        "  best_RSS = np.inf\n",
        "  # Go through the best feature combinations starting with 1 feature\n",
        "  for i in range(1, k+1):\n",
        "    print(\"Currently on {} features\".format(i))\n",
        "    # Try to add each of the remaining features and see which is best\n",
        "    for feature in combinations(remaining_features, 1):\n",
        "      feature_combo = best_features + list(feature)\n",
        "      X_curr = X[feature_combo]\n",
        "      model_curr, RSS_curr = fit_model(X_curr,Y)\n",
        "      RSS_list.append(RSS_curr)\n",
        "      feature_list.append(feature_combo)\n",
        "      num_features.append(len(feature_combo))\n",
        "      model_list.append(model_curr)\n",
        "      # If this is the best feature i.e. minimizes RSS, then set it as such\n",
        "      if RSS_curr < best_RSS:\n",
        "        best_RSS = RSS_curr\n",
        "        best_feature = feature[0]\n",
        "    # Add the best feature to our best features and remove it from our \n",
        "    # remaining features\n",
        "    best_features.append(best_feature)\n",
        "    remaining_features.remove(best_feature)\n",
        "\n",
        "  stat_df = pd.DataFrame({'num_features' : num_features, 'RSS' : RSS_list, 'features' : feature_list, 'model' : model_list})\n",
        "  stat_df['min_RSS'] = stat_df.groupby('num_features')['RSS'].transform(min)\n",
        "\n",
        "  m = len(Y)\n",
        "  k = len(features)\n",
        "  sigma_hat_squared = 1/(m - k - 1)*min(stat_df['RSS'])\n",
        "  \n",
        "  stat_df['C_p'] = (1/m) * (stat_df['RSS'] + 2 * stat_df['num_features'] * sigma_hat_squared)\n",
        "  stat_df['AIC'] = (1/m * sigma_hat_squared) * (stat_df['RSS'] + np.log(m) * stat_df['num_features'] * sigma_hat_squared)\n",
        "  stat_df['BIC'] = (1/(m*sigma_hat_squared)) * (stat_df['RSS'] +  np.log(m) * stat_df['num_features'] * sigma_hat_squared)\n",
        "\n",
        "  idx_num_features_min_rss = stat_df.groupby(['num_features'])['RSS'].idxmin()\n",
        "  forward_model_df = stat_df.loc[idx_num_features_min_rss, :].reset_index()\n",
        "\n",
        "  # Here, we've added the option for 5-fold cross validation as our criterion. If you change the last argument of args, you can change the\n",
        "  # number of folds for the cross validation\n",
        "  # Note, we didn't do this for best subset selection simply because there would be too many rows and this would take too long, but it is\n",
        "  # possible to do this there as well\n",
        "  forward_model_df['CV'] = forward_model_df['features'].apply(k_fold_cross_val, args=(X,Y,5,))\n",
        "\n",
        "  print(forward_model_df)\n",
        "\n",
        "  forward_model = forward_model_df.loc[forward_model_df[criterion].idxmin(), :]\n",
        "  \n",
        "  stat_df = stat_df.sort_values(by =['num_features', 'RSS'])\n",
        "\n",
        "  return forward_model, stat_df"
      ],
      "execution_count": 0,
      "outputs": []
    },
    {
      "cell_type": "code",
      "metadata": {
        "id": "0D2eeGUSVPYl",
        "colab_type": "code",
        "outputId": "8bb8760a-eabc-4a6d-ed3f-821228b6b6a3",
        "colab": {
          "base_uri": "https://localhost:8080/",
          "height": 1000
        }
      },
      "source": [
        "forward_model, stat_df = forwardss(features, X, Y, 'CV')\n",
        "print(stat_df.head(20))\n",
        "print(forward_model)\n",
        "\n",
        "fig = plt.figure(figsize = (8,5))\n",
        "ax = fig.add_subplot(1,1,1)\n",
        "ax.ticklabel_format(style='sci', axis='y', scilimits=(0,0))\n",
        "\n",
        "ax.scatter(stat_df['num_features'],stat_df['RSS'], alpha = .2, color = 'darkblue')\n",
        "ax.set_xlabel('Number of Features')\n",
        "ax.set_ylabel('RSS')\n",
        "ax.set_title('Forward Subset Selection by RSS')\n",
        "ax.plot(stat_df['num_features'], stat_df['min_RSS'], color = 'r', label = 'Best Subset')\n",
        "\n",
        "plt.show()"
      ],
      "execution_count": 0,
      "outputs": [
        {
          "output_type": "stream",
          "text": [
            "Currently on 1 features\n"
          ],
          "name": "stdout"
        },
        {
          "output_type": "stream",
          "text": [
            "/usr/local/lib/python3.6/dist-packages/numpy/core/fromnumeric.py:2495: FutureWarning: Method .ptp is deprecated and will be removed in a future version. Use numpy.ptp instead.\n",
            "  return ptp(axis=axis, out=out, **kwargs)\n"
          ],
          "name": "stderr"
        },
        {
          "output_type": "stream",
          "text": [
            "Currently on 2 features\n",
            "Currently on 3 features\n",
            "Currently on 4 features\n",
            "Currently on 5 features\n",
            "Currently on 6 features\n",
            "Currently on 7 features\n",
            "Currently on 8 features\n",
            "Currently on 9 features\n",
            "Currently on 10 features\n",
            "Currently on 11 features\n",
            "Currently on 12 features\n",
            "Currently on 13 features\n",
            "Currently on 14 features\n",
            "Currently on 15 features\n",
            "Currently on 16 features\n",
            "Currently on 17 features\n",
            "Currently on 18 features\n",
            "Currently on 19 features\n",
            "Currently on 20 features\n",
            "Currently on 21 features\n",
            "Currently on 22 features\n",
            "Currently on 23 features\n",
            "Currently on 24 features\n",
            "Currently on 25 features\n",
            "Currently on 26 features\n",
            "Currently on 27 features\n",
            "Currently on 28 features\n",
            "Currently on 29 features\n",
            "Currently on 30 features\n",
            "Currently on 31 features\n",
            "Currently on 32 features\n",
            "Currently on 33 features\n",
            "Currently on 34 features\n",
            "Currently on 35 features\n",
            "Currently on 36 features\n",
            "Currently on 37 features\n",
            "Currently on 38 features\n",
            "Currently on 39 features\n",
            "Applying 5-fold to 1 features...\n",
            "Applying 5-fold to 2 features...\n",
            "Applying 5-fold to 3 features...\n",
            "Applying 5-fold to 4 features...\n",
            "Applying 5-fold to 5 features...\n",
            "Applying 5-fold to 6 features...\n",
            "Applying 5-fold to 7 features...\n",
            "Applying 5-fold to 8 features...\n",
            "Applying 5-fold to 9 features...\n",
            "Applying 5-fold to 10 features...\n",
            "Applying 5-fold to 11 features...\n",
            "Applying 5-fold to 12 features...\n",
            "Applying 5-fold to 13 features...\n",
            "Applying 5-fold to 14 features...\n",
            "Applying 5-fold to 15 features...\n",
            "Applying 5-fold to 16 features...\n",
            "Applying 5-fold to 17 features...\n",
            "Applying 5-fold to 18 features...\n",
            "Applying 5-fold to 19 features...\n",
            "Applying 5-fold to 20 features...\n",
            "Applying 5-fold to 21 features...\n",
            "Applying 5-fold to 22 features...\n",
            "Applying 5-fold to 23 features...\n",
            "Applying 5-fold to 24 features...\n",
            "Applying 5-fold to 25 features...\n",
            "Applying 5-fold to 26 features...\n",
            "Applying 5-fold to 27 features...\n",
            "Applying 5-fold to 28 features...\n",
            "Applying 5-fold to 29 features...\n",
            "Applying 5-fold to 30 features...\n",
            "Applying 5-fold to 31 features...\n",
            "Applying 5-fold to 32 features...\n",
            "Applying 5-fold to 33 features...\n",
            "Applying 5-fold to 34 features...\n",
            "Applying 5-fold to 35 features...\n",
            "Applying 5-fold to 36 features...\n",
            "Applying 5-fold to 37 features...\n",
            "Applying 5-fold to 38 features...\n",
            "Applying 5-fold to 39 features...\n",
            "    index  num_features           RSS  ...            AIC       BIC          CV\n",
            "0       3             1  5.928967e+06  ...  101501.627150  1.051351  597.583377\n",
            "1      42             2  5.744422e+06  ...   98396.039437  1.019183  597.583377\n",
            "2      84             3  5.732141e+06  ...   98238.039809  1.017546  597.583377\n",
            "3     133             4  5.712197e+06  ...   97948.920129  1.014552  597.583377\n",
            "4     165             5  5.701459e+06  ...   97817.323079  1.013189  597.583377\n",
            "5     185             6  5.691286e+06  ...   97695.399548  1.011926  597.583377\n",
            "6     237             7  5.686082e+06  ...   97658.501631  1.011544  597.583377\n",
            "7     278             8  5.681097e+06  ...   97625.337591  1.011200  597.583377\n",
            "8     305             9  5.676741e+06  ...   97602.945400  1.010968  597.583377\n",
            "9     328            10  5.673325e+06  ...   97596.631626  1.010903  597.583377\n",
            "10    358            11  5.667577e+06  ...   97550.410357  1.010424  597.583377\n",
            "11    375            12  5.661205e+06  ...   97493.530750  1.009835  597.583377\n",
            "12    416            13  5.654845e+06  ...   97436.846348  1.009248  597.583377\n",
            "13    446            14  5.651171e+06  ...   97426.114115  1.009137  597.583377\n",
            "14    459            15  5.648543e+06  ...   97433.280777  1.009211  597.583377\n",
            "15    502            16  5.644597e+06  ...   97417.900808  1.009051  597.583377\n",
            "16    512            17  5.641143e+06  ...   97410.943547  1.008979  597.583377\n",
            "17    541            18  5.639331e+06  ...   97432.081764  1.009198  597.583377\n",
            "18    557            19  5.637234e+06  ...   97448.334208  1.009367  597.583377\n",
            "19    579            20  5.635908e+06  ...   97477.787422  1.009672  597.583377\n",
            "20    590            21  5.634584e+06  ...   97507.276804  1.009977  597.583377\n",
            "21    611            22  5.633957e+06  ...   97548.689336  1.010406  597.583377\n",
            "22    634            23  5.632823e+06  ...   97581.416045  1.010745  597.583377\n",
            "23    644            24  5.632316e+06  ...   97624.885509  1.011195  597.583377\n",
            "24    663            25  5.631819e+06  ...   97668.526960  1.011647  597.583377\n",
            "25    688            26  5.631385e+06  ...   97713.236474  1.012111  597.583377\n",
            "26    700            27  5.631061e+06  ...   97759.826217  1.012593  597.583377\n",
            "27    709            28  5.630777e+06  ...   97807.112542  1.013083  597.583377\n",
            "28    719            29  5.630499e+06  ...   97854.486097  1.013574  597.583377\n",
            "29    730            30  5.630347e+06  ...   97904.031147  1.014087  597.583377\n",
            "30    737            31  5.630226e+06  ...   97954.107311  1.014605  597.583377\n",
            "31    746            32  5.630132e+06  ...   98004.630934  1.015129  597.583377\n",
            "32    755            33  5.630067e+06  ...   98055.666497  1.015657  597.583377\n",
            "33    763            34  5.630001e+06  ...   98106.676960  1.016186  597.583377\n",
            "34    767            35  5.629960e+06  ...   98158.107715  1.016718  597.583377\n",
            "35    770            36  5.629921e+06  ...   98209.572941  1.017252  597.583377\n",
            "36    776            37  5.629892e+06  ...   98261.226200  1.017787  597.583377\n",
            "37    778            38  5.629872e+06  ...   98313.020860  1.018323  597.583377\n",
            "38    779            39  5.629852e+06  ...   98364.810814  1.018860  597.583377\n",
            "\n",
            "[39 rows x 10 columns]\n",
            "    num_features           RSS  ...            AIC       BIC\n",
            "3              1  5.928967e+06  ...  101501.627150  1.051351\n",
            "18             1  6.644920e+06  ...  113752.155920  1.178241\n",
            "4              1  6.722392e+06  ...  115077.765529  1.191972\n",
            "30             1  7.257231e+06  ...  124229.308737  1.286763\n",
            "28             1  7.931808e+06  ...  135771.876669  1.406321\n",
            "8              1  8.032646e+06  ...  137497.296553  1.424193\n",
            "14             1  8.129142e+06  ...  139148.418459  1.441295\n",
            "13             1  8.133309e+06  ...  139219.726109  1.442033\n",
            "11             1  8.214615e+06  ...  140610.928788  1.456443\n",
            "20             1  8.220084e+06  ...  140704.511265  1.457413\n",
            "9              1  8.224599e+06  ...  140781.768734  1.458213\n",
            "24             1  8.261506e+06  ...  141413.267886  1.464754\n",
            "10             1  8.312616e+06  ...  142287.803447  1.473812\n",
            "12             1  8.315805e+06  ...  142342.366366  1.474378\n",
            "5              1  8.330479e+06  ...  142593.453721  1.476978\n",
            "27             1  8.355009e+06  ...  143013.192119  1.481326\n",
            "29             1  8.372162e+06  ...  143306.687580  1.484366\n",
            "6              1  8.391538e+06  ...  143638.229911  1.487800\n",
            "25             1  8.474490e+06  ...  145057.597260  1.502502\n",
            "7              1  8.496777e+06  ...  145438.949067  1.506452\n",
            "\n",
            "[20 rows x 8 columns]\n",
            "index                                                           3\n",
            "num_features                                                    1\n",
            "RSS                                                   5.92897e+06\n",
            "features                                                [Overall]\n",
            "model           <statsmodels.regression.linear_model.Regressio...\n",
            "min_RSS                                               5.92897e+06\n",
            "C_p                                                       326.537\n",
            "AIC                                                        101502\n",
            "BIC                                                       1.05135\n",
            "CV                                                        597.583\n",
            "Name: 0, dtype: object\n"
          ],
          "name": "stdout"
        },
        {
          "output_type": "display_data",
          "data": {
            "image/png": "[encoded data removed]",
            "text/plain": [
              "<Figure size 576x360 with 1 Axes>"
            ]
          },
          "metadata": {
            "tags": []
          }
        }
      ]
    },
    {
      "cell_type": "code",
      "metadata": {
        "id": "fPWNl2FX7kXn",
        "colab_type": "code",
        "colab": {}
      },
      "source": [
        "# Backward Subset Selection Algorithm\n",
        "def backwardss(features, X, Y, criterion=\"C_p\"):\n",
        "  RSS_list = []\n",
        "  feature_list, num_features = [], []\n",
        "  model_list = []\n",
        "  best_features = features.copy()\n",
        "  k = len(features)\n",
        "  # Start with all features and iterate backwards\n",
        "  for i in range(k, 0, -1):\n",
        "    print(\"Currently on {} features\".format(i))\n",
        "    # Get remaining features and smallest RSS for this iteration\n",
        "    remaining_features = best_features.copy()\n",
        "    best_RSS = np.inf\n",
        "    # Go through all possible removals of one feature\n",
        "    for feature in combinations(remaining_features, 1):\n",
        "      feature_combo = remaining_features.copy()\n",
        "      feature_combo.remove(feature[0])\n",
        "      X_curr = X[feature_combo]\n",
        "      model_curr, RSS_curr = fit_model(X_curr,Y)\n",
        "      RSS_list.append(RSS_curr)\n",
        "      feature_list.append(feature_combo)\n",
        "      num_features.append(len(feature_combo))\n",
        "      # If this particular combination is better than all the previous ones,\n",
        "      # set it as our best combination\n",
        "      model_list.append(model_curr)\n",
        "      if RSS_curr < best_RSS:\n",
        "        best_RSS = RSS_curr\n",
        "        best_features = feature_combo\n",
        "\n",
        "  stat_df = pd.DataFrame({'num_features' : num_features, 'RSS' : RSS_list, 'features' : feature_list, 'model' : model_list})\n",
        "  stat_df['min_RSS'] = stat_df.groupby('num_features')['RSS'].transform(min)\n",
        "\n",
        "  m = len(Y)\n",
        "  k = len(features)\n",
        "  sigma_hat_squared = 1/(m - k - 1)*min(stat_df['RSS'])\n",
        "  \n",
        "  stat_df['C_p'] = (1/m) * (stat_df['RSS'] + 2 * stat_df['num_features'] * sigma_hat_squared)\n",
        "  stat_df['AIC'] = (1/m * sigma_hat_squared) * (stat_df['RSS'] + np.log(m) * stat_df['num_features'] * sigma_hat_squared)\n",
        "  stat_df['BIC'] = (1/(m*sigma_hat_squared)) * (stat_df['RSS'] +  np.log(m) * stat_df['num_features'] * sigma_hat_squared)\n",
        "\n",
        "  idx_num_features_min_rss = stat_df.groupby(['num_features'])['RSS'].idxmin()\n",
        "  backward_model_df = stat_df.loc[idx_num_features_min_rss, :].reset_index()\n",
        "\n",
        "  backward_model_df['CV'] = backward_model_df['features'].apply(k_fold_cross_val, args=(X,Y,5,))\n",
        "  \n",
        "  print(backward_model_df)\n",
        "\n",
        "  backward_model = backward_model_df.loc[backward_model_df[criterion].idxmin(), :]\n",
        "  \n",
        "  stat_df = stat_df.sort_values(by =['num_features', 'RSS'])\n",
        "\n",
        "  return backward_model, stat_df"
      ],
      "execution_count": 0,
      "outputs": []
    },
    {
      "cell_type": "code",
      "metadata": {
        "id": "WUoAk50T9ZyI",
        "colab_type": "code",
        "outputId": "16a92189-45db-4107-b10f-f3224a410724",
        "colab": {
          "base_uri": "https://localhost:8080/",
          "height": 1000
        }
      },
      "source": [
        "backward_model, stat_df = backwardss(features, X, Y, 'BIC')\n",
        "print(stat_df.head(20))\n",
        "print(backward_model)\n",
        "\n",
        "fig = plt.figure(figsize = (8,5))\n",
        "ax = fig.add_subplot(1,1,1)\n",
        "ax.ticklabel_format(style='sci', axis='y', scilimits=(0,0))\n",
        "\n",
        "ax.scatter(stat_df['num_features'],stat_df['RSS'], alpha = .2, color = 'darkblue')\n",
        "ax.set_xlabel('Number of Features')\n",
        "ax.set_ylabel('RSS')\n",
        "ax.set_title('Backward Subset Selection by RSS')\n",
        "ax.plot(stat_df['num_features'], stat_df['min_RSS'], color = 'r', label = 'Best Subset')\n",
        "\n",
        "plt.show()"
      ],
      "execution_count": 0,
      "outputs": [
        {
          "output_type": "stream",
          "text": [
            "Currently on 39 features\n"
          ],
          "name": "stdout"
        },
        {
          "output_type": "stream",
          "text": [
            "/usr/local/lib/python3.6/dist-packages/numpy/core/fromnumeric.py:2495: FutureWarning: Method .ptp is deprecated and will be removed in a future version. Use numpy.ptp instead.\n",
            "  return ptp(axis=axis, out=out, **kwargs)\n"
          ],
          "name": "stderr"
        },
        {
          "output_type": "stream",
          "text": [
            "Currently on 38 features\n",
            "Currently on 37 features\n",
            "Currently on 36 features\n",
            "Currently on 35 features\n",
            "Currently on 34 features\n",
            "Currently on 33 features\n",
            "Currently on 32 features\n",
            "Currently on 31 features\n",
            "Currently on 30 features\n",
            "Currently on 29 features\n",
            "Currently on 28 features\n",
            "Currently on 27 features\n",
            "Currently on 26 features\n",
            "Currently on 25 features\n",
            "Currently on 24 features\n",
            "Currently on 23 features\n",
            "Currently on 22 features\n",
            "Currently on 21 features\n",
            "Currently on 20 features\n",
            "Currently on 19 features\n",
            "Currently on 18 features\n",
            "Currently on 17 features\n",
            "Currently on 16 features\n",
            "Currently on 15 features\n",
            "Currently on 14 features\n",
            "Currently on 13 features\n",
            "Currently on 12 features\n",
            "Currently on 11 features\n",
            "Currently on 10 features\n",
            "Currently on 9 features\n",
            "Currently on 8 features\n",
            "Currently on 7 features\n",
            "Currently on 6 features\n",
            "Currently on 5 features\n",
            "Currently on 4 features\n",
            "Currently on 3 features\n",
            "Currently on 2 features\n",
            "Currently on 1 features\n",
            "Applying 5-fold to 0 features...\n",
            "Applying 5-fold to 1 features...\n",
            "Applying 5-fold to 2 features...\n",
            "Applying 5-fold to 3 features...\n",
            "Applying 5-fold to 4 features...\n",
            "Applying 5-fold to 5 features...\n",
            "Applying 5-fold to 6 features...\n",
            "Applying 5-fold to 7 features...\n",
            "Applying 5-fold to 8 features...\n",
            "Applying 5-fold to 9 features...\n",
            "Applying 5-fold to 10 features...\n",
            "Applying 5-fold to 11 features...\n",
            "Applying 5-fold to 12 features...\n",
            "Applying 5-fold to 13 features...\n",
            "Applying 5-fold to 14 features...\n",
            "Applying 5-fold to 15 features...\n",
            "Applying 5-fold to 16 features...\n",
            "Applying 5-fold to 17 features...\n",
            "Applying 5-fold to 18 features...\n",
            "Applying 5-fold to 19 features...\n",
            "Applying 5-fold to 20 features...\n",
            "Applying 5-fold to 21 features...\n",
            "Applying 5-fold to 22 features...\n",
            "Applying 5-fold to 23 features...\n",
            "Applying 5-fold to 24 features...\n",
            "Applying 5-fold to 25 features...\n",
            "Applying 5-fold to 26 features...\n",
            "Applying 5-fold to 27 features...\n",
            "Applying 5-fold to 28 features...\n",
            "Applying 5-fold to 29 features...\n",
            "Applying 5-fold to 30 features...\n",
            "Applying 5-fold to 31 features...\n",
            "Applying 5-fold to 32 features...\n",
            "Applying 5-fold to 33 features...\n",
            "Applying 5-fold to 34 features...\n",
            "Applying 5-fold to 35 features...\n",
            "Applying 5-fold to 36 features...\n",
            "Applying 5-fold to 37 features...\n",
            "Applying 5-fold to 38 features...\n",
            "    index  num_features           RSS  ...            AIC       BIC          CV\n",
            "0     779             0  8.807975e+06  ...  150712.218729  1.561061  597.583377\n",
            "1     778             1  5.928967e+06  ...  101501.995566  1.051347  597.583377\n",
            "2     776             2  5.744422e+06  ...   98396.396775  1.019179  597.583377\n",
            "3     773             3  5.732141e+06  ...   98238.396764  1.017543  597.583377\n",
            "4     768             4  5.712197e+06  ...   97949.276223  1.014548  597.583377\n",
            "5     759             5  5.701459e+06  ...   97817.678885  1.013185  597.583377\n",
            "6     756             6  5.691286e+06  ...   97695.755101  1.011922  597.583377\n",
            "7     750             7  5.687410e+06  ...   97681.570748  1.011775  597.583377\n",
            "8     736             8  5.680119e+06  ...   97608.952728  1.011023  597.583377\n",
            "9     734             9  5.674094e+06  ...   97558.006324  1.010495  597.583377\n",
            "10    724            10  5.667285e+06  ...   97493.638921  1.009829  597.583377\n",
            "11    707            11  5.662681e+06  ...   97466.996415  1.009553  597.583377\n",
            "12    700            12  5.657162e+06  ...   97424.707112  1.009115  597.583377\n",
            "13    686            13  5.651606e+06  ...   97381.777763  1.008670  597.583377\n",
            "14    673            14  5.646500e+06  ...   97346.543984  1.008305  597.583377\n",
            "15    658            15  5.644716e+06  ...   97368.163335  1.008529  597.583377\n",
            "16    639            16  5.642640e+06  ...   97384.777382  1.008701  597.583377\n",
            "17    615            17  5.640620e+06  ...   97402.355860  1.008883  597.583377\n",
            "18    594            18  5.638827e+06  ...   97423.823098  1.009105  597.583377\n",
            "19    581            19  5.637234e+06  ...   97448.691324  1.009363  597.583377\n",
            "20    550            20  5.635908e+06  ...   97478.144834  1.009668  597.583377\n",
            "21    532            21  5.634584e+06  ...   97507.634513  1.009974  597.583377\n",
            "22    518            22  5.633957e+06  ...   97549.047384  1.010403  597.583377\n",
            "23    485            23  5.632823e+06  ...   97581.774401  1.010742  597.583377\n",
            "24    464            24  5.632316e+06  ...   97625.244211  1.011192  597.583377\n",
            "25    454            25  5.631819e+06  ...   97668.886010  1.011644  597.583377\n",
            "26    426            26  5.631385e+06  ...   97713.595875  1.012107  597.583377\n",
            "27    397            27  5.631061e+06  ...   97760.185976  1.012589  597.583377\n",
            "28    365            28  5.630777e+06  ...   97807.472662  1.013079  597.583377\n",
            "29    336            29  5.630499e+06  ...   97854.846578  1.013570  597.583377\n",
            "30    293            30  5.630347e+06  ...   97904.391996  1.014083  597.583377\n",
            "31    263            31  5.630226e+06  ...   97954.468531  1.014602  597.583377\n",
            "32    247            32  5.630132e+06  ...   98004.992527  1.015125  597.583377\n",
            "33    215            33  5.630067e+06  ...   98056.028465  1.015654  597.583377\n",
            "34    164            34  5.630001e+06  ...   98107.039301  1.016182  597.583377\n",
            "35    120            35  5.629960e+06  ...   98158.470433  1.016715  597.583377\n",
            "36    111            36  5.629921e+06  ...   98209.936034  1.017248  597.583377\n",
            "37     70            37  5.629892e+06  ...   98261.589670  1.017783  597.583377\n",
            "38     10            38  5.629872e+06  ...   98313.384707  1.018319  597.583377\n",
            "\n",
            "[39 rows x 10 columns]\n",
            "     num_features           RSS  ...            AIC       BIC\n",
            "779             0  8.807975e+06  ...  150712.218729  1.561061\n",
            "778             1  5.928967e+06  ...  101501.995566  1.051347\n",
            "777             1  6.722392e+06  ...  115078.183196  1.191967\n",
            "776             2  5.744422e+06  ...   98396.396775  1.019179\n",
            "775             2  5.917210e+06  ...  101352.962356  1.049803\n",
            "774             2  6.554961e+06  ...  112265.433058  1.162833\n",
            "773             3  5.732141e+06  ...   98238.396764  1.017543\n",
            "772             3  5.738582e+06  ...   98348.621800  1.018684\n",
            "771             3  5.889390e+06  ...  100929.079380  1.045413\n",
            "770             3  6.553431e+06  ...  112291.394571  1.163102\n",
            "768             4  5.712197e+06  ...   97949.276223  1.014548\n",
            "769             4  5.723237e+06  ...   98138.188686  1.016505\n",
            "767             4  5.724888e+06  ...   98166.431979  1.016797\n",
            "766             4  5.886628e+06  ...  100933.956608  1.045463\n",
            "765             4  5.966760e+06  ...  102305.080549  1.059665\n",
            "759             5  5.701459e+06  ...   97817.678885  1.013185\n",
            "763             5  5.704202e+06  ...   97864.615024  1.013671\n",
            "762             5  5.715102e+06  ...   98051.137212  1.015603\n",
            "761             5  5.715411e+06  ...   98056.410991  1.015658\n",
            "764             5  5.718894e+06  ...   98116.012941  1.016275\n",
            "\n",
            "[20 rows x 8 columns]\n",
            "index                                                         673\n",
            "num_features                                                   14\n",
            "RSS                                                    5.6465e+06\n",
            "features        [Age, Height, Overall, Potential, Volleys, Bal...\n",
            "model           <statsmodels.regression.linear_model.Regressio...\n",
            "min_RSS                                                5.6465e+06\n",
            "C_p                                                       311.427\n",
            "AIC                                                       97346.5\n",
            "BIC                                                       1.00831\n",
            "CV                                                        597.583\n",
            "Name: 14, dtype: object\n"
          ],
          "name": "stdout"
        },
        {
          "output_type": "display_data",
          "data": {
            "image/png": "[encoded data removed]",
            "text/plain": [
              "<Figure size 576x360 with 1 Axes>"
            ]
          },
          "metadata": {
            "tags": []
          }
        }
      ]
    }
  ]
}