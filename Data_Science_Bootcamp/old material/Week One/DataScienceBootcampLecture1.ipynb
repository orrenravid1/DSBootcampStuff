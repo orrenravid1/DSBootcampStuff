{
  "nbformat": 4,
  "nbformat_minor": 0,
  "metadata": {
    "colab": {
      "name": "DataScienceBootcampLecture1.ipynb",
      "provenance": [],
      "collapsed_sections": []
    },
    "kernelspec": {
      "name": "python3",
      "display_name": "Python 3"
    }
  },
  "cells": [
    {
      "cell_type": "markdown",
      "metadata": {
        "id": "ReLOM9oT1CNg",
        "colab_type": "text"
      },
      "source": [
        "Code based on https://medium.com/@haydar_ai/learning-data-science-day-9-linear-regression-on-boston-housing-dataset-cd62a80775ef."
      ]
    },
    {
      "cell_type": "markdown",
      "metadata": {
        "id": "mU_XMD6NWMMG",
        "colab_type": "text"
      },
      "source": [
        "Import relevant libraries into python"
      ]
    },
    {
      "cell_type": "code",
      "metadata": {
        "id": "t8ov6J6qsb6a",
        "colab_type": "code",
        "colab": {}
      },
      "source": [
        "import numpy as np\n",
        "from sklearn.linear_model import LinearRegression\n",
        "from sklearn.datasets import load_boston\n",
        "from sklearn.model_selection import train_test_split\n",
        "import statsmodels.api as sm\n",
        "import pandas as pd\n",
        "from matplotlib import pyplot as plt"
      ],
      "execution_count": 0,
      "outputs": []
    },
    {
      "cell_type": "markdown",
      "metadata": {
        "id": "sMenGw90WUpl",
        "colab_type": "text"
      },
      "source": [
        "Load the boston dataset, look at the dimensions of the data, and print the description of the data."
      ]
    },
    {
      "cell_type": "code",
      "metadata": {
        "id": "AWqfdrQtvfan",
        "colab_type": "code",
        "outputId": "4ab5035e-bab2-4932-8f9e-4b512bca8298",
        "colab": {
          "base_uri": "https://localhost:8080/",
          "height": 952
        }
      },
      "source": [
        "boston = load_boston()\n",
        "print(boston.data.shape)\n",
        "print(boston.DESCR)"
      ],
      "execution_count": 0,
      "outputs": [
        {
          "output_type": "stream",
          "text": [
            "(506, 13)\n",
            ".. _boston_dataset:\n",
            "\n",
            "Boston house prices dataset\n",
            "---------------------------\n",
            "\n",
            "**Data Set Characteristics:**  \n",
            "\n",
            "    :Number of Instances: 506 \n",
            "\n",
            "    :Number of Attributes: 13 numeric/categorical predictive. Median Value (attribute 14) is usually the target.\n",
            "\n",
            "    :Attribute Information (in order):\n",
            "        - CRIM     per capita crime rate by town\n",
            "        - ZN       proportion of residential land zoned for lots over 25,000 sq.ft.\n",
            "        - INDUS    proportion of non-retail business acres per town\n",
            "        - CHAS     Charles River dummy variable (= 1 if tract bounds river; 0 otherwise)\n",
            "        - NOX      nitric oxides concentration (parts per 10 million)\n",
            "        - RM       average number of rooms per dwelling\n",
            "        - AGE      proportion of owner-occupied units built prior to 1940\n",
            "        - DIS      weighted distances to five Boston employment centres\n",
            "        - RAD      index of accessibility to radial highways\n",
            "        - TAX      full-value property-tax rate per $10,000\n",
            "        - PTRATIO  pupil-teacher ratio by town\n",
            "        - B        1000(Bk - 0.63)^2 where Bk is the proportion of blacks by town\n",
            "        - LSTAT    % lower status of the population\n",
            "        - MEDV     Median value of owner-occupied homes in $1000's\n",
            "\n",
            "    :Missing Attribute Values: None\n",
            "\n",
            "    :Creator: Harrison, D. and Rubinfeld, D.L.\n",
            "\n",
            "This is a copy of UCI ML housing dataset.\n",
            "https://archive.ics.uci.edu/ml/machine-learning-databases/housing/\n",
            "\n",
            "\n",
            "This dataset was taken from the StatLib library which is maintained at Carnegie Mellon University.\n",
            "\n",
            "The Boston house-price data of Harrison, D. and Rubinfeld, D.L. 'Hedonic\n",
            "prices and the demand for clean air', J. Environ. Economics & Management,\n",
            "vol.5, 81-102, 1978.   Used in Belsley, Kuh & Welsch, 'Regression diagnostics\n",
            "...', Wiley, 1980.   N.B. Various transformations are used in the table on\n",
            "pages 244-261 of the latter.\n",
            "\n",
            "The Boston house-price data has been used in many machine learning papers that address regression\n",
            "problems.   \n",
            "     \n",
            ".. topic:: References\n",
            "\n",
            "   - Belsley, Kuh & Welsch, 'Regression diagnostics: Identifying Influential Data and Sources of Collinearity', Wiley, 1980. 244-261.\n",
            "   - Quinlan,R. (1993). Combining Instance-Based and Model-Based Learning. In Proceedings on the Tenth International Conference of Machine Learning, 236-243, University of Massachusetts, Amherst. Morgan Kaufmann.\n",
            "\n"
          ],
          "name": "stdout"
        }
      ]
    },
    {
      "cell_type": "markdown",
      "metadata": {
        "id": "czyOEOluWrHz",
        "colab_type": "text"
      },
      "source": [
        "We are going to create a **pandas dataframe** out of the data. A dataframe is essentially a spreadsheet that can be accessed, modified, and analyzed through code."
      ]
    },
    {
      "cell_type": "code",
      "metadata": {
        "id": "NThr9l9kvrtN",
        "colab_type": "code",
        "outputId": "8d7f8dbd-d7e6-4d3c-9b9a-8e65e61ed57a",
        "colab": {
          "base_uri": "https://localhost:8080/",
          "height": 52
        }
      },
      "source": [
        "bos_df = pd.DataFrame(boston.data)\n",
        "print(boston.feature_names)"
      ],
      "execution_count": 0,
      "outputs": [
        {
          "output_type": "stream",
          "text": [
            "['CRIM' 'ZN' 'INDUS' 'CHAS' 'NOX' 'RM' 'AGE' 'DIS' 'RAD' 'TAX' 'PTRATIO'\n",
            " 'B' 'LSTAT']\n"
          ],
          "name": "stdout"
        }
      ]
    },
    {
      "cell_type": "markdown",
      "metadata": {
        "id": "hX8Ypz6CXBfs",
        "colab_type": "text"
      },
      "source": [
        "Next, set the title of each column to the feature names of the boston housing data. Then, add an additional column including the housing price data. This is stored in\n",
        "```\n",
        "boston.target\n",
        "```\n",
        "Finally, let's take a look at the first 5 rows i.e. the **head** of the data."
      ]
    },
    {
      "cell_type": "code",
      "metadata": {
        "id": "1oh_fLSY0iS-",
        "colab_type": "code",
        "outputId": "9a6b058c-3cb9-40bc-8a91-9b87567a8eda",
        "colab": {
          "base_uri": "https://localhost:8080/",
          "height": 158
        }
      },
      "source": [
        "bos_df.columns = boston.feature_names\n",
        "bos_df['PRICE'] = boston.target\n",
        "print(bos_df.head())"
      ],
      "execution_count": 0,
      "outputs": [
        {
          "output_type": "stream",
          "text": [
            "      CRIM    ZN  INDUS  CHAS    NOX  ...    TAX  PTRATIO       B  LSTAT  PRICE\n",
            "0  0.00632  18.0   2.31   0.0  0.538  ...  296.0     15.3  396.90   4.98   24.0\n",
            "1  0.02731   0.0   7.07   0.0  0.469  ...  242.0     17.8  396.90   9.14   21.6\n",
            "2  0.02729   0.0   7.07   0.0  0.469  ...  242.0     17.8  392.83   4.03   34.7\n",
            "3  0.03237   0.0   2.18   0.0  0.458  ...  222.0     18.7  394.63   2.94   33.4\n",
            "4  0.06905   0.0   2.18   0.0  0.458  ...  222.0     18.7  396.90   5.33   36.2\n",
            "\n",
            "[5 rows x 14 columns]\n"
          ],
          "name": "stdout"
        }
      ]
    },
    {
      "cell_type": "markdown",
      "metadata": {
        "id": "7mtkG_FLXr0U",
        "colab_type": "text"
      },
      "source": [
        "Now we choose our independent and dependent variable for analysis. Here, we want to see what the relationship between housing prices and crime rate is. Now, let's set our independent (housing prices) and dependent (crime rate) variables equal to their proper columns."
      ]
    },
    {
      "cell_type": "code",
      "metadata": {
        "id": "OgP25HiOxonw",
        "colab_type": "code",
        "colab": {}
      },
      "source": [
        "var_x = 'PRICE'\n",
        "var_y = 'CRIM'\n",
        "X = bos_df[var_x]\n",
        "Y = bos_df[var_y]"
      ],
      "execution_count": 0,
      "outputs": []
    },
    {
      "cell_type": "markdown",
      "metadata": {
        "id": "guRv8SnDYGAr",
        "colab_type": "text"
      },
      "source": [
        "Here, we split the data up into training and testing data. This is done so that once we create a regression line using the testing data, we can check whether our line generalizes to the rest of the data. (Note, we also have some lines of the form \n",
        "\n",
        "\n",
        "```\n",
        "a = a.numpy()\n",
        "a = a.reshape(-1,1)\n",
        "```\n",
        "\n",
        ").\n",
        "This is done for the purpose of formatting the dimensions of the data properly for use in the linear regression function later on."
      ]
    },
    {
      "cell_type": "code",
      "metadata": {
        "id": "PnP2b1Jo01n0",
        "colab_type": "code",
        "outputId": "b840d96b-ba1f-451b-bb8d-ebe29ee1b713",
        "colab": {
          "base_uri": "https://localhost:8080/",
          "height": 34
        }
      },
      "source": [
        "X_train, X_test, Y_train, Y_test = train_test_split(X, Y, test_size = 0.33, random_state = 5)\n",
        "X_train = X_train.to_numpy()\n",
        "X_train = X_train.reshape(-1,1)\n",
        "X_test = X_test.to_numpy()\n",
        "X_test = X_test.reshape(-1,1)\n",
        "Y_train = Y_train.to_numpy()\n",
        "Y_train = Y_train.reshape(-1,1)\n",
        "Y_test = Y_test.to_numpy()\n",
        "Y_test = Y_test.reshape(-1,1)\n",
        "print(X_train.shape, Y_train.shape, X_test.shape, Y_test.shape)"
      ],
      "execution_count": 0,
      "outputs": [
        {
          "output_type": "stream",
          "text": [
            "(339, 1) (339, 1) (167, 1) (167, 1)\n"
          ],
          "name": "stdout"
        }
      ]
    },
    {
      "cell_type": "markdown",
      "metadata": {
        "id": "bdsUahvVYvh_",
        "colab_type": "text"
      },
      "source": [
        "Finally, we create a new linear regression model and fit it based on our training data for the independent and dependent variable.\n",
        "We now see what line of best fit the model generates for the testing data (which it has not been trained on.)"
      ]
    },
    {
      "cell_type": "code",
      "metadata": {
        "id": "TgSl1FHb04Jp",
        "colab_type": "code",
        "colab": {}
      },
      "source": [
        "linreg = LinearRegression()\n",
        "linreg.fit(X_train, Y_train)\n",
        "Y_pred = linreg.predict(X_test)"
      ],
      "execution_count": 0,
      "outputs": []
    },
    {
      "cell_type": "markdown",
      "metadata": {
        "id": "40rH6SNEZHZd",
        "colab_type": "text"
      },
      "source": [
        "Finally, plot the predicted line over the test data and see how well it fits. What sort of relationship are we seeing in the data? Does this agree with our expectations?"
      ]
    },
    {
      "cell_type": "code",
      "metadata": {
        "id": "OFC6ALVa1g5n",
        "colab_type": "code",
        "outputId": "38f71df9-7cb6-497f-d099-898ae5518838",
        "colab": {
          "base_uri": "https://localhost:8080/",
          "height": 269
        }
      },
      "source": [
        "plt.scatter(X_test, Y_test, c='blue')\n",
        "plt.plot(X_test, Y_pred, c='red')\n",
        "plt.show()"
      ],
      "execution_count": 0,
      "outputs": [
        {
          "output_type": "display_data",
          "data": {
            "image/png": "[encoded data removed]",
            "text/plain": [
              "<Figure size 432x288 with 1 Axes>"
            ]
          },
          "metadata": {
            "tags": []
          }
        }
      ]
    }
  ]
}